{
 "cells": [
  {
   "cell_type": "markdown",
   "metadata": {},
   "source": [
    "# Training example for the U-Nets\n",
    "The training for all the U-Net variants is the same. Just uncomment the corresponding imports in the first cell"
   ]
  },
  {
   "cell_type": "code",
   "execution_count": null,
   "metadata": {},
   "outputs": [],
   "source": [
    "import sys \n",
    "sys.path.insert(1, '../')\n",
    "from data.skmtea import load_data_into_loader\n",
    "import matplotlib.pyplot as plt\n",
    "\n",
    "from models.unet.src import unet as unet\n",
    "from models.unet.src.unet import UNet\n",
    "\n",
    "# from models.unet_dropout.src import unet as unet\n",
    "# from models.unet_dropout.src.unet import UNet\n",
    "\n",
    "# from models.unet_het.src import unet as unet\n",
    "# from models.unet_het.src.unet import UNet\n",
    "\n",
    "# from models.unet_het_dropout.src import unet as unet\n",
    "# from models.unet_het_dropout.src.unet import UNet\n",
    "\n",
    "import torch"
   ]
  },
  {
   "cell_type": "code",
   "execution_count": null,
   "metadata": {},
   "outputs": [],
   "source": [
    "path = '/home/paul/workspace/PhD/year_2/projects/skm-tea-explore/data/skm-tea-4x'\n",
    "path_split = '/home/paul/workspace/PhD/year_2/projects/skm-tea-explore/data/splits/v1.0.0'"
   ]
  },
  {
   "cell_type": "code",
   "execution_count": null,
   "metadata": {},
   "outputs": [],
   "source": [
    "train_loader, val_loader = load_data_into_loader(1,path, path_split)"
   ]
  },
  {
   "cell_type": "code",
   "execution_count": null,
   "metadata": {},
   "outputs": [],
   "source": [
    "x,y,_,_ = next(iter(train_loader))\n",
    "print(x.shape)\n",
    "print(y.shape)"
   ]
  },
  {
   "cell_type": "code",
   "execution_count": null,
   "metadata": {},
   "outputs": [],
   "source": [
    "model = UNet(2,2)\n",
    "opt = torch.optim.Adam(model.parameters(), lr=0.0001)"
   ]
  },
  {
   "cell_type": "code",
   "execution_count": null,
   "metadata": {},
   "outputs": [],
   "source": [
    "unet.train_model(model, train_loader, val_loader, opt, epochs=10000)"
   ]
  },
  {
   "cell_type": "code",
   "execution_count": null,
   "metadata": {},
   "outputs": [],
   "source": []
  },
  {
   "cell_type": "code",
   "execution_count": null,
   "metadata": {},
   "outputs": [],
   "source": []
  },
  {
   "cell_type": "code",
   "execution_count": null,
   "metadata": {},
   "outputs": [],
   "source": []
  }
 ],
 "metadata": {
  "kernelspec": {
   "display_name": "im2im-uq",
   "language": "python",
   "name": "python3"
  },
  "language_info": {
   "codemirror_mode": {
    "name": "ipython",
    "version": 3
   },
   "file_extension": ".py",
   "mimetype": "text/x-python",
   "name": "python",
   "nbconvert_exporter": "python",
   "pygments_lexer": "ipython3",
   "version": "3.7.7"
  },
  "orig_nbformat": 4
 },
 "nbformat": 4,
 "nbformat_minor": 2
}
